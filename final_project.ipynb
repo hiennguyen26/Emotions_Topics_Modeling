{
 "cells": [
  {
   "cell_type": "markdown",
   "metadata": {},
   "source": [
    "<h3>Final Project Code: NB Supervised + Semisupervised for Emotions Analysis along with HDP-LDA for Topic Modelling. </h3>\n",
    "\n",
    "<h5>Loading Data and Imports </h5>"
   ]
  },
  {
   "cell_type": "code",
   "execution_count": 31,
   "metadata": {},
   "outputs": [],
   "source": [
    "#import modules\n",
    "import pandas as pd\n",
    "import pandas as pd\n",
    "import spacy\n",
    "import matplotlib.pyplot as plt\n",
    "from plotnine import ggplot, aes,labs, theme_bw, scale_x_continuous, \\\n",
    "                    geom_bar,lims, geom_text\n",
    "import nltk\n",
    "from tqdm import tqdm\n",
    "from gensim.utils import simple_preprocess\n",
    "from gensim.models import Phrases\n",
    "from gensim.models.phrases import Phraser\n",
    "from sklearn.naive_bayes import MultinomialNB\n",
    "from nltk.corpus import stopwords\n",
    "from sklearn.feature_extraction.text import CountVectorizer\n",
    "import numpy as np\n",
    "import tomotopy as tp\n",
    "from sklearn.metrics import v_measure_score\n",
    "import seaborn as sns\n",
    "from sklearn.metrics import f1_score\n"
   ]
  },
  {
   "cell_type": "code",
   "execution_count": 9,
   "metadata": {},
   "outputs": [],
   "source": [
    "# import data files for both models\n",
    "train_set = pd.read_csv(\"./tests/data/tidy_text_data.csv\")\n",
    "train_set.head()\n",
    "train_set = train_set[:1288]\n",
    "\n",
    "extra_paragraphs = pd.read_csv(\"./tests/data/tidy_text_data.csv\")\n",
    "extra_paragraphs = extra_paragraphs[:1250]\n",
    "\n",
    "train = pd.read_csv(\"./tests/data/train.txt\", sep=\";\")\n",
    "train.columns = [\"text\",\"sentiment\"]\n",
    "test = pd.read_csv(\"./tests/data/test.txt\", sep=\";\")\n",
    "test.columns = [\"text\",\"sentiment\"]"
   ]
  },
  {
   "cell_type": "code",
   "execution_count": 29,
   "metadata": {},
   "outputs": [],
   "source": [
    "# Helper functions\n",
    "def unique(list1):\n",
    "    unique_list = []\n",
    "    for x in list1:\n",
    "        if x not in unique_list:\n",
    "            unique_list.append(x)\n",
    "    return unique_list\n",
    "\n",
    "def lemmatize(word_list, ptags):\n",
    "    '''Lemmatizes words based on allowed postags, input format is list of sublists \n",
    "       with strings'''\n",
    "    spC = spacy.load('en_core_web_sm')\n",
    "    lem_lists =[]\n",
    "    for vec in word_list:\n",
    "        sentence = spC(\" \".join(vec))\n",
    "        lem_lists.append([token.lemma_ for token in sentence if token.pos_ in ptags])\n",
    "    return lem_lists\n",
    "\n",
    "def clean_nonentry_lemmatized(df):\n",
    "    list_to_remove = []\n",
    "    for i, word_list in enumerate(df):\n",
    "        if len(word_list) == 0:\n",
    "            list_to_remove.append(i)\n",
    "    list_to_remove.reverse()\n",
    "    for index in list_to_remove:\n",
    "        df.pop(index)\n",
    "    return df\n",
    "\n",
    "def breakdown_clusters_by_ground_truth(y_true, cluster_labels, display=True) :\n",
    "    assert len(y_true) == len(cluster_labels), \"Length of Target and cluster labels don't match\"\n",
    "    df = pd.DataFrame({'topic' : y_true, 'cluster' : cluster_labels})\n",
    "    counts = df.groupby(['topic', 'cluster']).size().reset_index().rename(columns={0:'count'})\n",
    "    if display :\n",
    "        sns.barplot(x=\"topic\", y=\"count\", hue=\"cluster\", data=counts)\n",
    "    return v_measure_score(y_true, cluster_labels)\n",
    "\n",
    "def eval_coherence(topics_dict, word_list, coherence_type='c_v'):\n",
    "    # Build gensim objects\n",
    "    vocab = corpora.Dictionary(word_list)\n",
    "    corpus = [vocab.doc2bow(words) for words in word_list]\n",
    "    # Build topic list from dictionary\n",
    "    topic_list=[]\n",
    "    for k, tups in topics_dict.items():\n",
    "        topic_tokens=[]\n",
    "        for w, p in tups:\n",
    "            topic_tokens.append(w)\n",
    "        topic_list.append(topic_tokens)\n",
    "    # Build Coherence model\n",
    "    cm = CoherenceModel(topics=topic_list, corpus=corpus, dictionary=vocab, texts=word_list, \n",
    "                    coherence=coherence_type)\n",
    "    score = cm.get_coherence()\n",
    "    return score"
   ]
  },
  {
   "cell_type": "markdown",
   "metadata": {},
   "source": [
    "<h4> Preprocessing Data for Models </h4>"
   ]
  },
  {
   "cell_type": "code",
   "execution_count": 11,
   "metadata": {},
   "outputs": [
    {
     "name": "stdout",
     "output_type": "stream",
     "text": [
      "Number of emotions: 6\n"
     ]
    }
   ],
   "source": [
    "# Data Processing for Emotions NB\n",
    "train_text = train.text\n",
    "extra_paragraphs_text = extra_paragraphs.text_new\n",
    "vectorizer = CountVectorizer(max_features=5000, min_df=3, binary=True, \n",
    "                             stop_words=\"english\")\n",
    "X_supervised = vectorizer.fit_transform(train_text)\n",
    "X_unsupervised = vectorizer.transform(extra_paragraphs_text)\n",
    "y_topic_train = train['sentiment']\n",
    "y_topic_test = test['sentiment']\n",
    "X_supervised.shape, X_unsupervised.shape\n",
    "X = vectorizer.fit_transform(train_text)\n",
    "X_test = vectorizer.transform(test.text)\n",
    "test_sentiment = test.sentiment\n",
    "combined_X = np.concatenate((X_supervised.toarray(), X_unsupervised.toarray()), axis = 0)\n",
    "combined_X.shape\n",
    "mask = np.arange(X_supervised.shape[0])\n",
    "topics = unique(train['sentiment'])\n",
    "y_train = np.array([topics.index(k) for k in train['sentiment']],dtype=int)\n",
    "y_test = np.array([topics.index(k) for k in test_sentiment],dtype=int)\n",
    "combined_Y = np.concatenate((y_train, np.zeros(X_unsupervised.shape[0], dtype=int)), axis=0)\n",
    "print(\"Number of emotions: \" + str(len(unique(combined_Y))))\n",
    "n, d = X.shape\n",
    "k = 6\n",
    "X.shape\n",
    "temp = np.zeros((len(y_train),k))\n",
    "for i in range(n):\n",
    "    temp[i,y_train[i]] = 1\n"
   ]
  },
  {
   "cell_type": "code",
   "execution_count": 12,
   "metadata": {},
   "outputs": [
    {
     "name": "stdout",
     "output_type": "stream",
     "text": [
      "['lean', 'empty', 'guard', 'desk', 'hear', 'footstep', 'straighten'] 15 1285\n"
     ]
    }
   ],
   "source": [
    "# Data Processing for HDP-LDA topic modelling\n",
    "# Remove stop words, minimum word length = 3, create bigrams, lemmatize words. \n",
    "nltk.download('stopwords', quiet=True)\n",
    "st_words = stopwords.words('english')\n",
    "extra_stops=['from','subject','re', 'edu','use']\n",
    "st_words.extend(extra_stops)\n",
    "doc_list = train_set.text_new.values.tolist()\n",
    "word_list = [simple_preprocess(str(txt), deacc=True, min_len=3) for txt in doc_list]\n",
    "bigram = Phrases(word_list, min_count=5, threshold=100) # use original wordlist to build model\n",
    "bigram_model = Phraser(bigram)\n",
    "word_list_nostops = [[word for word in txt if word not in st_words] for txt in word_list]\n",
    "word_bigrams = [bigram_model[w_vec] for w_vec in word_list_nostops]\n",
    "word_list_lemmatized = lemmatize(word_bigrams, ptags=['NOUN','VERB','ADV','ADJ'])\n",
    "\n",
    "# Clean data\n",
    "word_list_lemmatized = clean_nonentry_lemmatized(word_list_lemmatized)\n",
    "print(word_list_lemmatized[0][:7],len(word_list_lemmatized[0]),len(word_list_lemmatized) )"
   ]
  },
  {
   "cell_type": "markdown",
   "metadata": {},
   "source": [
    "<h4>NB Supervised + Semisupervised Training for Emotions Analysis </h4>"
   ]
  },
  {
   "cell_type": "code",
   "execution_count": 13,
   "metadata": {},
   "outputs": [],
   "source": [
    "class SoftMultinomialNB(MultinomialNB):\n",
    "    # Note y = numpy array of size n x k containing \n",
    "    # for each example n, the probability of it belonging to class k.\n",
    "    def fit(self, X, y, sample_weight=None):        \n",
    "      _, n_features = X.shape\n",
    "      self.n_features_in_ = n_features \n",
    "      Y = y\n",
    "      self.classes_ = np.arange(Y.shape[1])\n",
    "      \n",
    "      if sample_weight is not None:\n",
    "          Y = Y.astype(np.float64, copy=False)\n",
    "          sample_weight = np.asarray(sample_weight)\n",
    "          sample_weight = np.atleast_2d(sample_weight)\n",
    "      class_prior = self.class_prior\n",
    "      # Count raw events from data before updating the class log prior\n",
    "      # and feature log probas\n",
    "      n_effective_classes = Y.shape[1]\n",
    "      self._init_counters(n_effective_classes, n_features)\n",
    "      self._count(X, Y)\n",
    "      alpha = self._check_alpha()\n",
    "      self._update_feature_log_prob(alpha)\n",
    "      self._update_class_log_prior(class_prior=class_prior)\n",
    "      return self\n",
    "\n",
    "# Semi supervised EM NB with soft and hard capabilities.\n",
    "def semisupervised_EM(init_model,k, X, y_true, mask, max_iters=200, soft=False,\n",
    "                      return_model=False):\n",
    "    '''\n",
    "    Implements semi-supervised Hard or Soft EM model.\n",
    "        - init_model is a function for initializing the SoftMultinomialNB model\n",
    "            (hint: you are going to want to use this parameter later in the\n",
    "             homework to initialize in a different model)\n",
    "        - X is an (n x d) numpy array\n",
    "        - y_true - 0-6 class labels defined previously.\n",
    "        - mask - an array of size n containing True or False indicating if you\n",
    "            are to use the true labels of that example or not.\n",
    "        - soft - a boolean variable, which if true, performs soft EM and\n",
    "            otherwise performs hard EM\n",
    "        - return_model - specifies whether or not to return the NB classifier\n",
    "    '''\n",
    "    X.shape\n",
    "    temp = np.zeros((len(y_true),k))\n",
    "    for i in range(temp.shape[0]):\n",
    "        temp[i,y_true[i]] = 1\n",
    "    # model init\n",
    "    m = init_model()\n",
    "    x_train = X[mask]\n",
    "    # y_train = y_true[mask]\n",
    "    y_train_mat = temp[mask]\n",
    "    #fit training with masked train targets\n",
    "    m.fit(x_train, y_train_mat)\n",
    "    y_hat = None\n",
    "    for _ in tqdm(range(max_iters)):\n",
    "        # E Step: predict the latent variables (y_hat) using the model\n",
    "        newy_hat = m.predict_proba(X)\n",
    "        if not soft:\n",
    "            for i_soft in range(len(newy_hat)):\n",
    "                bestindex = np.argmax(newy_hat[i_soft])\n",
    "                newy_hat[i_soft,:] = 0\n",
    "                newy_hat[i_soft, bestindex] = 1\n",
    "        # converged, return model\n",
    "        if (newy_hat == y_hat).all():\n",
    "            if return_model:\n",
    "                return newy_hat, m\n",
    "            else: \n",
    "                return newy_hat\n",
    "        y_hat = newy_hat\n",
    "        #M Step: retrain the model using the latent variables\n",
    "        y_hat[mask] = y_train_mat\n",
    "        m.fit(X, y_hat)\n",
    "    y_hat = m.predict(X)\n",
    "    if return_model:\n",
    "        return y_hat, m\n",
    "    else:\n",
    "        return y_hat"
   ]
  },
  {
   "cell_type": "markdown",
   "metadata": {},
   "source": [
    "<h4> NB Supervised + Semisupervised Model Training for Emotions Analysis </h4>"
   ]
  },
  {
   "cell_type": "code",
   "execution_count": 14,
   "metadata": {},
   "outputs": [
    {
     "name": "stderr",
     "output_type": "stream",
     "text": [
      "100%|██████████| 200/200 [02:21<00:00,  1.41it/s]\n",
      "100%|██████████| 200/200 [02:24<00:00,  1.38it/s]\n"
     ]
    }
   ],
   "source": [
    "# train supervised, semi supervised softs and hards models\n",
    "m_spvised = SoftMultinomialNB(fit_prior=False).fit(X, temp)\n",
    "y_hat_spvised = m_spvised.predict(X_test)\n",
    "yhat_soft, m_soft = semisupervised_EM(lambda: SoftMultinomialNB(), 6, combined_X, combined_Y, mask, return_model=True, soft=True)\n",
    "yhat_hard, m_hard = semisupervised_EM(lambda: SoftMultinomialNB(), 6, combined_X, combined_Y, mask, return_model=True)"
   ]
  },
  {
   "cell_type": "markdown",
   "metadata": {},
   "source": [
    "<h4>NB Supervised + Semisupervised Model Evaluation for Emotions Analysis </h4>"
   ]
  },
  {
   "cell_type": "code",
   "execution_count": 17,
   "metadata": {},
   "outputs": [
    {
     "name": "stdout",
     "output_type": "stream",
     "text": [
      "The f1 score of fully trained Soft-EM model = 0.8880947429311116\n",
      "The v-measure of fully trained Soft-EM model = 0.7669671920035445\n",
      "The f1 score of fully trained Hard-EM model = 0.8937319788053512\n",
      "The v-measure of fully trained Hard-EM model = 0.777863080032788\n"
     ]
    }
   ],
   "source": [
    "# V-measure and f1 scores for train sets for both Hard & Soft-EM models\n",
    "prediction_train = m_soft.predict(X_supervised)\n",
    "train_eval = v_measure_score(train.sentiment, prediction_train)\n",
    "print(f'The f1 score of fully trained Soft-EM model = {f1_score(y_train, prediction_train,average=\"macro\")}')\n",
    "print(f'The v-measure of fully trained Soft-EM model = ' + str(train_eval))\n",
    "print()\n",
    "prediction_train_hard = m_hard.predict(X_supervised)\n",
    "train_eval = v_measure_score(train.sentiment, prediction_train_hard)\n",
    "print(f'The f1 score of fully trained Hard-EM model = {f1_score(y_train, prediction_train_hard,average=\"macro\")}')\n",
    "print(f'The v-measure of fully trained Hard-EM model = ' + str(train_eval))\n"
   ]
  },
  {
   "cell_type": "code",
   "execution_count": 19,
   "metadata": {},
   "outputs": [
    {
     "name": "stdout",
     "output_type": "stream",
     "text": [
      "The f1 score of fully trained model = 0.7329266095376865\n",
      "The v-measure of fully trained model = 0.5700987286997194\n"
     ]
    },
    {
     "data": {
      "image/png": "[encoded data removed]",
      "text/plain": [
       "<Figure size 432x288 with 1 Axes>"
      ]
     },
     "metadata": {
      "needs_background": "light"
     },
     "output_type": "display_data"
    }
   ],
   "source": [
    "# Soft-EM Model Results on semi-supervised test set\n",
    "prediction_test_soft = m_soft.predict(X_test)\n",
    "test_eval_soft = lambda cluster_labels, d=True: breakdown_clusters_by_ground_truth(test_sentiment, prediction_test_soft, d)\n",
    "print(f'The f1 score of fully trained model = {f1_score(y_test, prediction_test_soft,average=\"macro\")}')\n",
    "print(f'The v-measure of fully trained model = {test_eval_soft(prediction_test_soft, d=True)}')"
   ]
  },
  {
   "cell_type": "code",
   "execution_count": 21,
   "metadata": {},
   "outputs": [
    {
     "name": "stdout",
     "output_type": "stream",
     "text": [
      "The f1 score of fully trained model = 0.7429693433056285\n",
      "The v-measure of fully trained model = 0.5893649307648581\n"
     ]
    },
    {
     "data": {
      "image/png": "[encoded data removed]",
      "text/plain": [
       "<Figure size 432x288 with 1 Axes>"
      ]
     },
     "metadata": {
      "needs_background": "light"
     },
     "output_type": "display_data"
    }
   ],
   "source": [
    "# Hard-EM Model Results on semi-supervised test set\n",
    "prediction_test_hard = m_hard.predict(X_test)\n",
    "test_eval_hard = lambda cluster_labels, d=True: breakdown_clusters_by_ground_truth(test.sentiment, prediction_test_hard, d)\n",
    "print(f'The f1 score of fully trained model = {f1_score(y_test, prediction_test_hard,average=\"macro\")}')\n",
    "print(f'The v-measure of fully trained model = {test_eval_hard(prediction_test_hard, d=True)}')"
   ]
  },
  {
   "cell_type": "code",
   "execution_count": 22,
   "metadata": {},
   "outputs": [
    {
     "name": "stdout",
     "output_type": "stream",
     "text": [
      "The f1 score of fully trained model = 0.7806264577724985\n",
      "The v-measure of fully trained model = 0.5971668515814397\n"
     ]
    },
    {
     "data": {
      "image/png": "[encoded data removed]",
      "text/plain": [
       "<Figure size 432x288 with 1 Axes>"
      ]
     },
     "metadata": {
      "needs_background": "light"
     },
     "output_type": "display_data"
    }
   ],
   "source": [
    "# Results for supervised model on test set\n",
    "train_eval = lambda cluster_labels, d=True: breakdown_clusters_by_ground_truth(y_topic_train, cluster_labels, d)\n",
    "test_eval = lambda cluster_labels, d=True: breakdown_clusters_by_ground_truth(y_topic_test, cluster_labels, d)\n",
    "\n",
    "print(f'The f1 score of fully trained model = {f1_score(y_hat_spvised, y_test,average=\"macro\")}')\n",
    "print(f'The v-measure of fully trained model = {test_eval(y_hat_spvised, d=True)}')"
   ]
  },
  {
   "cell_type": "markdown",
   "metadata": {},
   "source": [
    "<h4> HDP-LDA Model Training for Topic Modelling </h4>"
   ]
  },
  {
   "cell_type": "code",
   "execution_count": 23,
   "metadata": {},
   "outputs": [],
   "source": [
    "import gensim.corpora as corpora\n",
    "from gensim.models import CoherenceModel\n",
    "import sys\n",
    "\n",
    "def train_HDPmodel(hdp, word_list, mcmc_iter, burn_in=100, quiet=False):\n",
    "    '''Wrapper function to train tomotopy HDP Model object\n",
    "    \n",
    "    *** Inputs**\n",
    "    hdp: obj -> initialized HDPModel model\n",
    "    word_list: list -> lemmatized word list of lists\n",
    "    mcmc_iter : int -> number of iterations to train the model\n",
    "    burn_in: int -> MC burn in iterations\n",
    "    quiet: bool -> flag whether to print iteration LL and Topics, if True nothing prints out\n",
    "    \n",
    "    ** Returns**\n",
    "    hdp: trained HDP Model \n",
    "    '''\n",
    "    # Add docs to train\n",
    "    for vec in word_list:\n",
    "        hdp.add_doc(vec)\n",
    "        \n",
    "    # Initiate MCMC burn-in \n",
    "    hdp.burn_in = 100\n",
    "    hdp.train(0)\n",
    "    print('Num docs:', len(hdp.docs), ', Vocab size:', hdp.num_vocabs, ', Num words:', hdp.num_words)\n",
    "    print('Removed top words:', hdp.removed_top_words)\n",
    "    print('Training...', file=sys.stderr, flush=True)\n",
    "\n",
    "    # Train model\n",
    "    step=round(mcmc_iter*0.10)\n",
    "    for i in range(0, mcmc_iter, step):\n",
    "        hdp.train(step, workers=3)\n",
    "        if not quiet:\n",
    "            print('Iteration: {}\\tLog-likelihood: {}\\tNum. of topics: {}'.format(i, hdp.ll_per_word, hdp.live_k))\n",
    "    print(\"Done\\n\")  \n",
    "    return hdp\n",
    "    \n",
    "        \n",
    "def get_hdp_topics(hdp, top_n=10):\n",
    "    '''Wrapper function to extract topics from trained tomotopy HDP model \n",
    "    \n",
    "    ** Inputs **\n",
    "    hdp:obj -> HDPModel trained model\n",
    "    top_n: int -> top n words in topic based on frequencies\n",
    "    \n",
    "    ** Returns **\n",
    "    topics: dict -> per topic, an arrays with top words and associated frequencies \n",
    "    '''\n",
    "    \n",
    "    # Get most important topics by # of times they were assigned (i.e. counts)\n",
    "    sorted_topics = [k for k, v in sorted(enumerate(hdp.get_count_by_topics()), key=lambda x:x[1], reverse=True)]\n",
    "\n",
    "    topics=dict()\n",
    "    \n",
    "    # For topics found, extract only those that are still assigned\n",
    "    for k in sorted_topics:\n",
    "        if not hdp.is_live_topic(k): continue # remove un-assigned topics at the end (i.e. not alive)\n",
    "        topic_wp =[]\n",
    "        for word, prob in hdp.get_topic_words(k, top_n=top_n):\n",
    "            topic_wp.append((word, prob))\n",
    "\n",
    "        topics[k] = topic_wp # store topic word/frequency array\n",
    "        \n",
    "    return topics"
   ]
  },
  {
   "cell_type": "code",
   "execution_count": 27,
   "metadata": {},
   "outputs": [
    {
     "name": "stderr",
     "output_type": "stream",
     "text": [
      "Training...\n"
     ]
    },
    {
     "name": "stdout",
     "output_type": "stream",
     "text": [
      "Model one\n",
      "Num docs: 1285 , Vocab size: 882 , Num words: 13528\n",
      "Removed top words: ['know', 'time', 'make', 'see', 'day', 'life', 'come']\n",
      "Iteration: 0\tLog-likelihood: -6.8567218925563775\tNum. of topics: 104\n",
      "Iteration: 100\tLog-likelihood: -6.899072195759615\tNum. of topics: 204\n",
      "Iteration: 200\tLog-likelihood: -6.8847851555140185\tNum. of topics: 226\n",
      "Iteration: 300\tLog-likelihood: -6.890954544986937\tNum. of topics: 207\n",
      "Iteration: 400\tLog-likelihood: -6.902817362673814\tNum. of topics: 214\n",
      "Iteration: 500\tLog-likelihood: -6.8904394994185285\tNum. of topics: 232\n",
      "Iteration: 600\tLog-likelihood: -6.888419077549369\tNum. of topics: 217\n",
      "Iteration: 700\tLog-likelihood: -6.882560354658022\tNum. of topics: 210\n",
      "Iteration: 800\tLog-likelihood: -6.875155079953421\tNum. of topics: 220\n"
     ]
    },
    {
     "name": "stderr",
     "output_type": "stream",
     "text": [
      "Training...\n"
     ]
    },
    {
     "name": "stdout",
     "output_type": "stream",
     "text": [
      "Iteration: 900\tLog-likelihood: -6.901277264728834\tNum. of topics: 230\n",
      "Done\n",
      "\n",
      "Model pmi\n",
      "Num docs: 1285 , Vocab size: 882 , Num words: 13528\n",
      "Removed top words: ['know', 'time', 'make', 'see', 'day', 'life', 'come']\n",
      "Iteration: 0\tLog-likelihood: -6.442577855126837\tNum. of topics: 44\n",
      "Iteration: 100\tLog-likelihood: -6.359981794282829\tNum. of topics: 61\n",
      "Iteration: 200\tLog-likelihood: -6.347484749624328\tNum. of topics: 64\n",
      "Iteration: 300\tLog-likelihood: -6.3882153233950545\tNum. of topics: 55\n",
      "Iteration: 400\tLog-likelihood: -6.327201301993915\tNum. of topics: 69\n",
      "Iteration: 500\tLog-likelihood: -6.320061975559263\tNum. of topics: 78\n",
      "Iteration: 600\tLog-likelihood: -6.291076801848503\tNum. of topics: 81\n",
      "Iteration: 700\tLog-likelihood: -6.310336340892324\tNum. of topics: 79\n"
     ]
    },
    {
     "name": "stderr",
     "output_type": "stream",
     "text": [
      "Training...\n"
     ]
    },
    {
     "name": "stdout",
     "output_type": "stream",
     "text": [
      "Iteration: 800\tLog-likelihood: -6.194012762480946\tNum. of topics: 106\n",
      "Iteration: 900\tLog-likelihood: -6.120618875462815\tNum. of topics: 126\n",
      "Done\n",
      "\n",
      "Model idf\n",
      "Num docs: 1285 , Vocab size: 882 , Num words: 13528\n",
      "Removed top words: ['know', 'time', 'make', 'see', 'day', 'life', 'come']\n",
      "Iteration: 0\tLog-likelihood: -6.478050840588941\tNum. of topics: 33\n",
      "Iteration: 100\tLog-likelihood: -6.406509198261176\tNum. of topics: 49\n",
      "Iteration: 200\tLog-likelihood: -6.379652826997765\tNum. of topics: 59\n",
      "Iteration: 300\tLog-likelihood: -6.369223842097219\tNum. of topics: 60\n",
      "Iteration: 400\tLog-likelihood: -6.3517489336900175\tNum. of topics: 64\n",
      "Iteration: 500\tLog-likelihood: -6.366256086366261\tNum. of topics: 57\n",
      "Iteration: 600\tLog-likelihood: -6.323227520192218\tNum. of topics: 68\n",
      "Iteration: 700\tLog-likelihood: -6.332975255692687\tNum. of topics: 72\n",
      "Iteration: 800\tLog-likelihood: -6.345902684741805\tNum. of topics: 62\n",
      "Iteration: 900\tLog-likelihood: -6.3338787511171555\tNum. of topics: 68\n",
      "Done\n",
      "\n"
     ]
    }
   ],
   "source": [
    "tw_list = [tp.TermWeight.ONE, # all terms weighted equally\n",
    "           tp.TermWeight.PMI, # Pointwise Mutual Information term weighting\n",
    "           tp.TermWeight.IDF] # down-weights high frequency terms, upweights low freq ones\n",
    "\n",
    "tw_names = ['one', 'pmi', 'idf']\n",
    "model_topics =[]\n",
    "\n",
    "# train trainning data with all three tomotopy models\n",
    "for i, term_weight in enumerate(tw_list):\n",
    "    hdp = tp.HDPModel(tw=term_weight, min_cf=5, rm_top=7, gamma=1, alpha=0.1,\n",
    "                     initial_k=10, seed=99999)\n",
    "    print(\"Model \" + tw_names[i] )\n",
    "    hdp = train_HDPmodel(hdp, word_list_lemmatized, mcmc_iter=1000)\n",
    "    # save models\n",
    "    hdp.save('./tests/models/hdp_model_'+tw_names[i]+\".bin\")\n",
    "    model_topics.append(get_hdp_topics(hdp, top_n=10))"
   ]
  },
  {
   "cell_type": "markdown",
   "metadata": {},
   "source": [
    "<h4> HDP-LDA Model Evaluation for Topic Modelling </h4>"
   ]
  },
  {
   "cell_type": "code",
   "execution_count": 32,
   "metadata": {},
   "outputs": [
    {
     "data": {
      "image/png": "[encoded data removed]",
      "text/plain": [
       "<Figure size 640x480 with 1 Axes>"
      ]
     },
     "metadata": {},
     "output_type": "display_data"
    },
    {
     "data": {
      "text/plain": [
       "<ggplot: (199118444310)>"
      ]
     },
     "execution_count": 32,
     "metadata": {},
     "output_type": "execute_result"
    }
   ],
   "source": [
    "coherence_scores = np.zeros(len(model_topics))\n",
    "\n",
    "for i, t in enumerate(model_topics):\n",
    "    coherence_scores[i] = eval_coherence(t, word_list_lemmatized)\n",
    "    \n",
    "# Plotting\n",
    "df_coherence = pd.DataFrame(coherence_scores).T\n",
    "df_coherence.columns = [\"TW ONE\", \"TW PMI\", \"TW IDF\"]\n",
    "df_coherence= df_coherence.melt(var_name=\"model\").round(4)\n",
    "df_coherence.reset_index(inplace=True)\n",
    "\n",
    "(ggplot(df_coherence) +\n",
    " geom_bar(aes(x='index', y=\"value\", fill=\"model\"), \n",
    "          stat=\"identity\", alpha=0.7) +\n",
    " geom_text(aes(x=\"index\",y=df_coherence.value.values +0.05, label=\"value\")) +\n",
    " theme_bw() +\n",
    " lims(y=(0,1)) +\n",
    " labs(y=\"Coherence\", x=\"Model\", title=\"IDF and PMI weighting yield a slightly higher Coherence score\") \n",
    ")"
   ]
  },
  {
   "cell_type": "code",
   "execution_count": 34,
   "metadata": {},
   "outputs": [
    {
     "data": {
      "text/plain": [
       "<bound method NDFrame.head of                                                   entry  \\\n",
       "0     James was leaning against the empty guard desk...   \n",
       "1     There was no clock on the nightstand between t...   \n",
       "2     Finley should’ve been happier — he should’ve b...   \n",
       "3     Inside a Belizean cave, you wade deeper into g...   \n",
       "4     Sophie had forgotten him by then. Not complete...   \n",
       "...                                                 ...   \n",
       "1280                         blagh class at 8 tomorrow    \n",
       "1281     I hate when I have to call and wake people up    \n",
       "1282  Just going to cry myself to sleep after watchi...   \n",
       "1283                             im sad now  Miss.Lilly   \n",
       "1284  ooooh.... LOL  that leslie.... and ok I won't ...   \n",
       "\n",
       "                                             lemmatized topic_id  \\\n",
       "0     [lean, empty, guard, desk, hear, footstep, str...        3   \n",
       "1     [nightstand, bed, analogue, phone, brochure, t...        3   \n",
       "2     [happy, beam, hardwood, car, job, girlfriend, ...        3   \n",
       "3     [cave, deep, green, water, search, xibalba, un...        3   \n",
       "4     [sophie, forget, completely, return, eventuall...        3   \n",
       "...                                                 ...      ...   \n",
       "1280                    [go, cry, sleep, watch, marley]        3   \n",
       "1281             [ooooh, lol, leslie, leslie, get, mad]        3   \n",
       "1282     [almost, exception, track, get, depress, time]        3   \n",
       "1283                    [hack, account, aim, make, new]        3   \n",
       "1284  [alielayus, want, promote, gear, groove, unfor...        3   \n",
       "\n",
       "                                       top_three_labels  \n",
       "0     ['think', 'want', 'look', 'get', 'take', 'way'...  \n",
       "1     ['think', 'want', 'look', 'get', 'take', 'way'...  \n",
       "2     ['think', 'want', 'look', 'get', 'take', 'way'...  \n",
       "3     ['think', 'want', 'look', 'get', 'take', 'way'...  \n",
       "4     ['think', 'want', 'look', 'get', 'take', 'way'...  \n",
       "...                                                 ...  \n",
       "1280  ['think', 'want', 'look', 'get', 'take', 'way'...  \n",
       "1281  ['think', 'want', 'look', 'get', 'take', 'way'...  \n",
       "1282  ['think', 'want', 'look', 'get', 'take', 'way'...  \n",
       "1283  ['think', 'want', 'look', 'get', 'take', 'way'...  \n",
       "1284  ['think', 'want', 'look', 'get', 'take', 'way'...  \n",
       "\n",
       "[1285 rows x 4 columns]>"
      ]
     },
     "execution_count": 34,
     "metadata": {},
     "output_type": "execute_result"
    }
   ],
   "source": [
    "# Load models\n",
    "hdp_one = tp.HDPModel.load(\"./tests/models/hdp_model_one.bin\")\n",
    "hdp_pmi = tp.HDPModel.load(\"./tests/models/hdp_model_pmi.bin\")\n",
    "hdp_idf = tp.HDPModel.load(\"./tests/models/hdp_model_idf.bin\")\n",
    "\n",
    "#Pulling top labels for potential topics and organize in df\n",
    "topics_df = pd.DataFrame(columns=[\"entry\", \"lemmatized\", \"topic_id\", \"top_three_labels\"])\n",
    "for i in range(len(word_list_lemmatized)):\n",
    "    test_doc = word_list_lemmatized[i]\n",
    "    doc_init = hdp_idf.make_doc(test_doc)\n",
    "    topic_dist, learned_labels = hdp_idf.infer(doc_init, together=True)\n",
    "    topic_id = np.array(topic_dist).argmax()\n",
    "    topic_freqs = dict(hdp_idf.get_topic_words(topic_id))\n",
    "    topic_keys = list(topic_freqs.keys())\n",
    "    top_topics = topic_keys[:8]\n",
    "    to_append = [train_set.text_new[i], test_doc, str(topic_id), str(top_topics)]\n",
    "    topics_df.loc[i] = to_append\n",
    "topics_df.head\n",
    "    "
   ]
  },
  {
   "cell_type": "code",
   "execution_count": 40,
   "metadata": {},
   "outputs": [
    {
     "name": "stdout",
     "output_type": "stream",
     "text": [
      "Number of entries: 1285\n",
      "Number of unique topics found in entries: 48\n",
      "\n",
      "Example 420 found text entry: 'She had been an angel for coming up on 10 years and in all that time nobody had told her this was possible. The fact that it could ever happen never even entered her mind. Yet there she stood, with the undeniable evidence sitting on the ground before her. Angels could lose their wings.' belongs to topic number 3 with top associted keywords: ['think', 'want', 'look', 'get', 'take', 'way', 'go', 'say']\n"
     ]
    }
   ],
   "source": [
    "#decribe topics_df\n",
    "def describe_topics_df(df, num):\n",
    "    if num > df.shape[0]:\n",
    "        print(\"document index is larger than df size.\")\n",
    "    else:\n",
    "        print(\"Number of entries: \" + str(len(df.entry)))\n",
    "        print(\"Number of unique topics found in entries: \" + str(len(unique(df.topic_id))))\n",
    "        print()\n",
    "        print(\"Example \" + str(num) + \" found text entry: '\" + df.entry[num] + \"' belongs to topic number \" +  str(df.topic_id[num]) + \" with top associted keywords: \" + str(df.top_three_labels[num]))\n",
    "\n",
    "#choose any random number\n",
    "describe_topics_df(topics_df, 420)"
   ]
  },
  {
   "cell_type": "markdown",
   "metadata": {},
   "source": [
    "<h4> Emotions Analysis on Topics of Random Entries </h4>\n"
   ]
  },
  {
   "cell_type": "code",
   "execution_count": null,
   "metadata": {},
   "outputs": [],
   "source": [
    "text_entries = topics_df.entry"
   ]
  }
 ],
 "metadata": {
  "interpreter": {
   "hash": "ac59ebe37160ed0dfa835113d9b8498d9f09ceb179beaac4002f036b9467c963"
  },
  "kernelspec": {
   "display_name": "Python 3.9.5 64-bit",
   "language": "python",
   "name": "python3"
  },
  "language_info": {
   "codemirror_mode": {
    "name": "ipython",
    "version": 3
   },
   "file_extension": ".py",
   "mimetype": "text/x-python",
   "name": "python",
   "nbconvert_exporter": "python",
   "pygments_lexer": "ipython3",
   "version": "3.9.5"
  },
  "orig_nbformat": 4
 },
 "nbformat": 4,
 "nbformat_minor": 2
}
