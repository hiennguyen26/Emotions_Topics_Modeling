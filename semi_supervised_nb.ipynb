{
 "cells": [
  {
   "cell_type": "code",
   "execution_count": 1,
   "metadata": {},
   "outputs": [],
   "source": [
    "import numpy as np\n",
    "import pandas as pd\n",
    "\n",
    "import matplotlib.pyplot as plt\n",
    "import seaborn as sns\n",
    "\n",
    "from tqdm import tqdm\n",
    "\n",
    "import numpy as np\n",
    "\n",
    "from sklearn.naive_bayes import _BaseDiscreteNB, MultinomialNB\n",
    "# import modules/downloads\n",
    "\n",
    "import pandas as pd\n",
    "import re\n",
    "\n",
    "from sklearn.metrics import v_measure_score\n",
    "\n",
    "from sklearn.metrics import f1_score"
   ]
  },
  {
   "cell_type": "code",
   "execution_count": 2,
   "metadata": {},
   "outputs": [],
   "source": [
    "import pandas as pd\n",
    "\n",
    "extra_paragraphs = pd.read_csv(\"./tidy_text_data.csv\")\n",
    "extra_paragraphs = extra_paragraphs[:1250]\n",
    "\n",
    "train = pd.read_csv(\"./train.txt\", sep=\";\")\n",
    "train.columns = [\"text\",\"sentiment\"]\n",
    "test = pd.read_csv(\"./test.txt\", sep=\";\")\n",
    "test.columns = [\"text\",\"sentiment\"]\n",
    "\n",
    "train_text = train.text\n",
    "extra_paragraphs_text = extra_paragraphs.text_new\n",
    "\n",
    "from sklearn.feature_extraction.text import CountVectorizer\n",
    "vectorizer = CountVectorizer(max_features=5000, min_df=3, binary=True, \n",
    "                             stop_words=\"english\")\n",
    "X_supervised = vectorizer.fit_transform(train_text)\n",
    "X_unsupervised = vectorizer.transform(extra_paragraphs_text)\n",
    "\n",
    "X_supervised.shape, X_unsupervised.shape\n",
    "\n",
    "X_test = vectorizer.transform(test.text)\n",
    "test_sentiment = test.sentiment"
   ]
  },
  {
   "cell_type": "code",
   "execution_count": 3,
   "metadata": {},
   "outputs": [
    {
     "data": {
      "text/plain": [
       "(17249, 4885)"
      ]
     },
     "execution_count": 3,
     "metadata": {},
     "output_type": "execute_result"
    }
   ],
   "source": [
    "import numpy as np\n",
    "combined_X = np.concatenate((X_supervised.toarray(), X_unsupervised.toarray()), axis = 0)\n",
    "combined_X.shape"
   ]
  },
  {
   "cell_type": "code",
   "execution_count": 4,
   "metadata": {},
   "outputs": [],
   "source": [
    "mask = np.arange(X_supervised.shape[0])"
   ]
  },
  {
   "cell_type": "code",
   "execution_count": 5,
   "metadata": {},
   "outputs": [
    {
     "name": "stdout",
     "output_type": "stream",
     "text": [
      "6\n"
     ]
    }
   ],
   "source": [
    "# function to get unique values\n",
    "def unique(list1):\n",
    " \n",
    "    # initialize a null list\n",
    "    unique_list = []\n",
    "     \n",
    "    # traverse for all elements\n",
    "    for x in list1:\n",
    "        # check if exists in unique_list or not\n",
    "        if x not in unique_list:\n",
    "            unique_list.append(x)\n",
    "    return unique_list\n",
    "\n",
    "topics = unique(train['sentiment'])\n",
    "y_train = np.array([topics.index(k) for k in train['sentiment']],dtype=int)\n",
    "y_test = np.array([topics.index(k) for k in test_sentiment],dtype=int)\n",
    "combined_Y = np.concatenate((y_train, np.zeros(X_unsupervised.shape[0], dtype=int)), axis=0)\n",
    "print(len(unique(combined_Y)))\n",
    "# y_test.shape"
   ]
  },
  {
   "cell_type": "code",
   "execution_count": 6,
   "metadata": {},
   "outputs": [],
   "source": [
    "from sklearn.naive_bayes import _BaseDiscreteNB, MultinomialNB\n",
    "\n",
    "class SoftMultinomialNB(MultinomialNB):\n",
    "\n",
    "    # Note y = numpy array of size n x k containing \n",
    "    # for each example n, the probability of it belonging to class k.\n",
    "    \n",
    "    def fit(self, X, y, sample_weight=None):        \n",
    "      _, n_features = X.shape\n",
    "      self.n_features_in_ = n_features \n",
    "\n",
    "      Y = y\n",
    "      self.classes_ = np.arange(Y.shape[1])\n",
    "\n",
    "      if sample_weight is not None:\n",
    "          Y = Y.astype(np.float64, copy=False)\n",
    "          sample_weight = np.asarray(sample_weight)\n",
    "          sample_weight = np.atleast_2d(sample_weight)\n",
    "          Y *= check_array(sample_weight).T\n",
    "\n",
    "      class_prior = self.class_prior\n",
    "\n",
    "      # Count raw events from data before updating the class log prior\n",
    "      # and feature log probas\n",
    "      n_effective_classes = Y.shape[1]\n",
    "\n",
    "      self._init_counters(n_effective_classes, n_features)\n",
    "      self._count(X, Y)\n",
    "      alpha = self._check_alpha()\n",
    "      self._update_feature_log_prob(alpha)\n",
    "      self._update_class_log_prior(class_prior=class_prior)\n",
    "      return self"
   ]
  },
  {
   "cell_type": "code",
   "execution_count": 12,
   "metadata": {},
   "outputs": [],
   "source": [
    "def semisupervised_EM(init_model,k, X, y_true, mask, max_iters=200, soft=False,\n",
    "                      return_model=False):\n",
    "    '''\n",
    "    Implements semi-supervised Hard or Soft EM model.\n",
    "        - init_model is a function for initializing the SoftMultinomialNB model\n",
    "            (hint: you are going to want to use this parameter later in the\n",
    "             homework to initialize in a different model)\n",
    "        - X is an (n x d) numpy array\n",
    "        - y_true - 0/1 class labels defined previously.\n",
    "        - mask - an array of size n containing True or False indicating if you\n",
    "            are to use the true labels of that example or not.\n",
    "        - soft - a boolean variable, which if true, performs soft EM and\n",
    "            otherwise performs hard EM\n",
    "        - return_model - specifies whether or not to return the NB classifier\n",
    "    \n",
    "    Return a list of size n, containing the class label (between 0 and k-1) of\n",
    "    each item.\n",
    "    '''\n",
    "    n, d = X.shape\n",
    "    X.shape\n",
    "    temp = np.zeros((len(y_true),k))\n",
    "    for i in range(temp.shape[0]):\n",
    "        temp[i,y_true[i]] = 1\n",
    "    \n",
    "    m = init_model()\n",
    "    x_train = X[mask]\n",
    "    # y_train = y_true[mask]\n",
    "    y_train_mat = temp[mask]\n",
    "    m.fit(x_train, y_train_mat)\n",
    "    y_hat = None\n",
    "    for _ in tqdm(range(max_iters)):\n",
    "        # E Step: predict the latent variables (y_hat) using the model\n",
    "        newy_hat = m.predict_proba(X)\n",
    "        if not soft:\n",
    "            for i_soft in range(len(newy_hat)):\n",
    "                bestindex = np.argmax(newy_hat[i_soft])\n",
    "                newy_hat[i_soft,:] = 0\n",
    "                newy_hat[i_soft, bestindex] = 1\n",
    "        # converged, return model\n",
    "        if (newy_hat == y_hat).all():\n",
    "            if return_model:\n",
    "                return newy_hat, m\n",
    "            else: \n",
    "                return newy_hat\n",
    "        y_hat = newy_hat\n",
    "        #M Step: retrain the model using the latent variables\n",
    "        y_hat[mask] = y_train_mat\n",
    "        m.fit(X, y_hat)\n",
    "\n",
    "    y_hat = m.predict(X)\n",
    "    if return_model:\n",
    "        return y_hat, m\n",
    "    else:\n",
    "        return y_hat"
   ]
  },
  {
   "cell_type": "code",
   "execution_count": 8,
   "metadata": {},
   "outputs": [
    {
     "name": "stderr",
     "output_type": "stream",
     "text": [
      "100%|██████████| 200/200 [02:17<00:00,  1.46it/s]\n"
     ]
    }
   ],
   "source": [
    "yhat, m_soft = semisupervised_EM(lambda: SoftMultinomialNB(), 6, combined_X, combined_Y, mask, return_model=True, soft=True)"
   ]
  },
  {
   "cell_type": "code",
   "execution_count": 9,
   "metadata": {},
   "outputs": [
    {
     "name": "stdout",
     "output_type": "stream",
     "text": [
      "[0 1 2 ... 5 1 0]\n",
      "6\n",
      "The f1 score of fully trained model = 0.8880947429311116\n",
      "       topic  cluster  count\n",
      "0      anger        0    107\n",
      "1      anger        1   1988\n",
      "2      anger        2      1\n",
      "3      anger        3      1\n",
      "4      anger        4     36\n",
      "5      anger        5     26\n",
      "6       fear        0    114\n",
      "7       fear        1     58\n",
      "8       fear        2      2\n",
      "9       fear        3      5\n",
      "10      fear        4   1709\n",
      "11      fear        5     49\n",
      "12       joy        0    111\n",
      "13       joy        1     19\n",
      "14       joy        2     52\n",
      "15       joy        3     12\n",
      "16       joy        4     47\n",
      "17       joy        5   5121\n",
      "18      love        0     19\n",
      "19      love        1      6\n",
      "20      love        2   1035\n",
      "21      love        4      8\n",
      "22      love        5    236\n",
      "23   sadness        0   4491\n",
      "24   sadness        1     34\n",
      "25   sadness        2     10\n",
      "26   sadness        3      7\n",
      "27   sadness        4     47\n",
      "28   sadness        5     76\n",
      "29  surprise        0     54\n",
      "30  surprise        1      7\n",
      "31  surprise        3    377\n",
      "32  surprise        4     74\n",
      "33  surprise        5     60\n",
      "The v-measure of fully trained model = 0.7669671920035445\n"
     ]
    },
    {
     "data": {
      "image/png": "[encoded data removed]",
      "text/plain": [
       "<Figure size 432x288 with 1 Axes>"
      ]
     },
     "metadata": {
      "needs_background": "light"
     },
     "output_type": "display_data"
    }
   ],
   "source": [
    "def breakdown_clusters_by_ground_truth(y_true, cluster_labels, display=True) :\n",
    "    \"\"\"\n",
    "    If display = True, \n",
    "        display counts of documents of each topic in each of the generated\n",
    "        clusters and plot the same.\n",
    "        \n",
    "    Returns v-measure of cluster labels with respect to ground truth\n",
    "    \"\"\"\n",
    "    \n",
    "    assert len(y_true) == len(cluster_labels), \"Length of Target and cluster labels don't match\"\n",
    "    df = pd.DataFrame({'topic' : y_true, 'cluster' : cluster_labels})\n",
    "    counts = df.groupby(['topic', 'cluster']).size().reset_index().rename(columns={0:'count'})\n",
    "    if display :\n",
    "        print(counts)\n",
    "        sns.barplot(x=\"topic\", y=\"count\", hue=\"cluster\", data=counts)\n",
    "    return v_measure_score(y_true, cluster_labels)\n",
    "\n",
    "from sklearn.metrics import f1_score\n",
    "\n",
    "prediction_train = m_soft.predict(X_supervised)\n",
    "print(prediction_train)\n",
    "print(len(unique(prediction_train)))\n",
    "train_eval = lambda cluster_labels, d=True: breakdown_clusters_by_ground_truth(train.sentiment, prediction_train, d)\n",
    "\n",
    "print(f'The f1 score of fully trained model = {f1_score(y_train, prediction_train,average=\"macro\")}')\n",
    "print(f'The v-measure of fully trained model = {train_eval(prediction_train, d=True)}')"
   ]
  },
  {
   "cell_type": "code",
   "execution_count": 10,
   "metadata": {},
   "outputs": [
    {
     "name": "stdout",
     "output_type": "stream",
     "text": [
      "[0 0 4 ... 5 5 4]\n",
      "6\n",
      "The f1 score of fully trained model = 0.7329266095376865\n",
      "       topic  cluster  count\n",
      "0      anger        0     26\n",
      "1      anger        1    217\n",
      "2      anger        2      1\n",
      "3      anger        3      1\n",
      "4      anger        4     17\n",
      "5      anger        5     13\n",
      "6       fear        0     28\n",
      "7       fear        1      8\n",
      "8       fear        2      2\n",
      "9       fear        3      1\n",
      "10      fear        4    175\n",
      "11      fear        5     10\n",
      "12       joy        0     16\n",
      "13       joy        1      4\n",
      "14       joy        2     22\n",
      "15       joy        3      3\n",
      "16       joy        4     12\n",
      "17       joy        5    638\n",
      "18      love        0     13\n",
      "19      love        1      6\n",
      "20      love        2     87\n",
      "21      love        4      2\n",
      "22      love        5     51\n",
      "23   sadness        0    517\n",
      "24   sadness        1     11\n",
      "25   sadness        2      5\n",
      "26   sadness        3      1\n",
      "27   sadness        4     18\n",
      "28   sadness        5     28\n",
      "29  surprise        0      9\n",
      "30  surprise        1      1\n",
      "31  surprise        3     20\n",
      "32  surprise        4     16\n",
      "33  surprise        5     20\n",
      "The v-measure of fully trained model = 0.5700987286997194\n"
     ]
    },
    {
     "data": {
      "image/png": "[encoded data removed]",
      "text/plain": [
       "<Figure size 432x288 with 1 Axes>"
      ]
     },
     "metadata": {
      "needs_background": "light"
     },
     "output_type": "display_data"
    }
   ],
   "source": [
    "prediction_test = m_soft.predict(X_test)\n",
    "print(prediction_test)\n",
    "print(len(unique(prediction_test)))\n",
    "test_eval = lambda cluster_labels, d=True: breakdown_clusters_by_ground_truth( test_sentiment, prediction_test, d)\n",
    "print(f'The f1 score of fully trained model = {f1_score(y_test, prediction_test,average=\"macro\")}')\n",
    "print(f'The v-measure of fully trained model = {test_eval(prediction_test, d=True)}')"
   ]
  },
  {
   "cell_type": "code",
   "execution_count": 13,
   "metadata": {},
   "outputs": [
    {
     "name": "stderr",
     "output_type": "stream",
     "text": [
      "100%|██████████| 200/200 [02:26<00:00,  1.36it/s]\n"
     ]
    },
    {
     "name": "stdout",
     "output_type": "stream",
     "text": [
      "[0 1 2 ... 5 5 0]\n",
      "6\n",
      "The f1 score of fully trained model = 0.8937319788053512\n",
      "       topic  cluster  count\n",
      "0      anger        0    109\n",
      "1      anger        1   1978\n",
      "2      anger        2      3\n",
      "3      anger        3      1\n",
      "4      anger        4     37\n",
      "5      anger        5     31\n",
      "6       fear        0     80\n",
      "7       fear        1     40\n",
      "8       fear        2      2\n",
      "9       fear        3      4\n",
      "10      fear        4   1777\n",
      "11      fear        5     34\n",
      "12       joy        0    124\n",
      "13       joy        1     27\n",
      "14       joy        2     61\n",
      "15       joy        3      6\n",
      "16       joy        4     24\n",
      "17       joy        5   5120\n",
      "18      love        0     20\n",
      "19      love        1      7\n",
      "20      love        2   1042\n",
      "21      love        4      3\n",
      "22      love        5    232\n",
      "23   sadness        0   4496\n",
      "24   sadness        1     39\n",
      "25   sadness        2     11\n",
      "26   sadness        3      5\n",
      "27   sadness        4     28\n",
      "28   sadness        5     86\n",
      "29  surprise        0     46\n",
      "30  surprise        1      3\n",
      "31  surprise        2      1\n",
      "32  surprise        3    375\n",
      "33  surprise        4     81\n",
      "34  surprise        5     66\n",
      "The v-measure of fully trained model = 0.777863080032788\n"
     ]
    },
    {
     "data": {
      "image/png": "[encoded data removed]",
      "text/plain": [
       "<Figure size 432x288 with 1 Axes>"
      ]
     },
     "metadata": {
      "needs_background": "light"
     },
     "output_type": "display_data"
    }
   ],
   "source": [
    "yhat_hard, m_hard = semisupervised_EM(lambda: SoftMultinomialNB(), 6, combined_X, combined_Y, mask, return_model=True)\n",
    "prediction_train_hard = m_hard.predict(X_supervised)\n",
    "print(prediction_train_hard)\n",
    "print(len(unique(prediction_train_hard)))\n",
    "train_eval = lambda cluster_labels, d=True: breakdown_clusters_by_ground_truth(train.sentiment, prediction_train_hard, d)\n",
    "\n",
    "print(f'The f1 score of fully trained model = {f1_score(y_train, prediction_train_hard,average=\"macro\")}')\n",
    "print(f'The v-measure of fully trained model = {train_eval(prediction_train_hard, d=True)}')\n"
   ]
  },
  {
   "cell_type": "code",
   "execution_count": 14,
   "metadata": {},
   "outputs": [
    {
     "name": "stdout",
     "output_type": "stream",
     "text": [
      "[0 0 5 ... 5 5 4]\n",
      "6\n",
      "The f1 score of fully trained model = 0.7429693433056285\n",
      "       topic  cluster  count\n",
      "0      anger        0     28\n",
      "1      anger        1    218\n",
      "2      anger        3      1\n",
      "3      anger        4     13\n",
      "4      anger        5     15\n",
      "5       fear        0     28\n",
      "6       fear        1      9\n",
      "7       fear        2      1\n",
      "8       fear        3      1\n",
      "9       fear        4    172\n",
      "10      fear        5     13\n",
      "11       joy        0     14\n",
      "12       joy        1      5\n",
      "13       joy        2     22\n",
      "14       joy        3      1\n",
      "15       joy        4      6\n",
      "16       joy        5    647\n",
      "17      love        0     13\n",
      "18      love        1      4\n",
      "19      love        2     88\n",
      "20      love        4      1\n",
      "21      love        5     53\n",
      "22   sadness        0    526\n",
      "23   sadness        1     12\n",
      "24   sadness        2      6\n",
      "25   sadness        4      9\n",
      "26   sadness        5     27\n",
      "27  surprise        0      9\n",
      "28  surprise        1      2\n",
      "29  surprise        3     20\n",
      "30  surprise        4     15\n",
      "31  surprise        5     20\n",
      "The v-measure of fully trained model = 0.5893649307648581\n"
     ]
    },
    {
     "data": {
      "image/png": "[encoded data removed]",
      "text/plain": [
       "<Figure size 432x288 with 1 Axes>"
      ]
     },
     "metadata": {
      "needs_background": "light"
     },
     "output_type": "display_data"
    }
   ],
   "source": [
    "prediction_test_hard = m_hard.predict(X_test)\n",
    "print(prediction_test_hard)\n",
    "print(len(unique(prediction_test_hard)))\n",
    "test_eval = lambda cluster_labels, d=True: breakdown_clusters_by_ground_truth( test_sentiment, prediction_test_hard, d)\n",
    "print(f'The f1 score of fully trained model = {f1_score(y_test, prediction_test_hard,average=\"macro\")}')\n",
    "print(f'The v-measure of fully trained model = {test_eval(prediction_test_hard, d=True)}')"
   ]
  },
  {
   "cell_type": "code",
   "execution_count": null,
   "metadata": {},
   "outputs": [],
   "source": []
  }
 ],
 "metadata": {
  "interpreter": {
   "hash": "ac59ebe37160ed0dfa835113d9b8498d9f09ceb179beaac4002f036b9467c963"
  },
  "kernelspec": {
   "display_name": "Python 3.9.5 64-bit",
   "language": "python",
   "name": "python3"
  },
  "language_info": {
   "codemirror_mode": {
    "name": "ipython",
    "version": 3
   },
   "file_extension": ".py",
   "mimetype": "text/x-python",
   "name": "python",
   "nbconvert_exporter": "python",
   "pygments_lexer": "ipython3",
   "version": "3.9.5"
  },
  "orig_nbformat": 4
 },
 "nbformat": 4,
 "nbformat_minor": 2
}
